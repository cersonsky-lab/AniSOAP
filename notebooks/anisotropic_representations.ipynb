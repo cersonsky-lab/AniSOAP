{
 "cells": [
  {
   "cell_type": "markdown",
   "id": "b2d69387",
   "metadata": {
    "heading_collapsed": true
   },
   "source": [
    "# Spherical to cartesian"
   ]
  },
  {
   "cell_type": "code",
   "execution_count": 20,
   "id": "f52fd41c",
   "metadata": {
    "hidden": true
   },
   "outputs": [],
   "source": [
    "import numpy as np\n",
    "import scipy\n",
    "from scipy.special import factorial, factorial2\n",
    "from math import comb\n",
    "from anisoap.utils import monomial_iterator\n",
    "\n",
    "#We are implementing iterations of the form R_{l} = prefact_minus1* z * R_{l-1} + prefact_minus2* r^2 * R_{l-2}\n",
    "def prefact_minus1(l):\n",
    "    \"\"\"\n",
    "    Parameters:\n",
    "    - l: int \n",
    "    \n",
    "    Returns:\n",
    "    - A list of size (2*l -1) corresponding to the prefactor that multiplies the   \n",
    "    \n",
    "    For m in [-l, -l+2, ..., l], compute the factor as : \n",
    "    sqrt(factorial(l+1-m)/ factorial(l+1+m)) sqrt(factorial(l+m)/ factorial(l-m)) (2*l+1)/(l+1-m) \n",
    "    \n",
    "    \"\"\"\n",
    "    m=np.arange(-l,l+1)\n",
    "    return np.sqrt(factorial(l+1-m)/factorial(l+1+m)) * np.sqrt(factorial(l+m)/factorial(l-m)) * (2*l+1)/(l+1-m)\n",
    "    \n",
    "def prefact_minus2(l):\n",
    "    \"\"\"\n",
    "    For m in [-l+1, -l+2, ..., l-1], compute the factor as : \n",
    "    sqrt(factorial(l+1-m)/ factorial(l+1+m)) sqrt(factorial(l-1+m)/ factorial(l-1-m)) (l+m)/(l-m+1) \n",
    "    \"\"\"\n",
    "    m=np.arange(-l+1,l)\n",
    "    return -1* np.sqrt(factorial(l+1-m)/factorial(l+1+m)) * np.sqrt(factorial(l-1+m)/factorial(l-1-m)) * (l+m)/(l+1-m)\n",
    "\n",
    "def binom(n, k):\n",
    "    \"\"\"\n",
    "    returns binomial coefficient nCk = math.factorial(n) / (math.factorial(k) * math.factorial(n - k))\n",
    "    We use math.comb utility to compute this \n",
    "    \"\"\"\n",
    "    return comb(n, k)\n"
   ]
  },
  {
   "cell_type": "code",
   "execution_count": 83,
   "id": "81a25e7e",
   "metadata": {
    "hidden": true
   },
   "outputs": [],
   "source": [
    "def spherical_to_cartesian2(lmax, num_ns):\n",
    "    \"\"\"\n",
    "    Parameters:\n",
    "    - lmax: int \n",
    "            \n",
    "    - num_ns: list of ints\n",
    "        \n",
    "    Returns:\n",
    "    - A list with as many entries as in num_ns (corresponding to l=0,1,... lmax+1). Each corresponding entry is an\n",
    "      array of size (2*l+1, num_ns[l], maxdeg, maxdeg, maxdeg) \n",
    "      where maxdeg = l + 2* max(num_ns[l]) and the last three axes correspond to n0, n1, n2 respectively such that\n",
    "      the entries of the array form the coefficient of the x^n0 y^n1 z^n2 monomial in the expansion of R_l^m\n",
    "    \"\"\"\n",
    "\n",
    "    assert len(num_ns) == lmax + 1\n",
    "\n",
    "    # Initialize array in which to store all\n",
    "    # coefficients for each l\n",
    "    # Usage T_l[m,n,n0,n1,n2]\n",
    "    T = []\n",
    "    for l, num_n in enumerate(num_ns):\n",
    "        maxdeg = l + 2*(num_n-1)\n",
    "        T_l = np.zeros((2*l+1,num_n,maxdeg+1,maxdeg+1,maxdeg+1))\n",
    "        T.append(T_l)\n",
    "\n",
    "    # Initialize array in which to store all coefficients for each l\n",
    "    # Usage T_l[m,n,n0,n1,n2]\n",
    "    T[0][0,0,0,0,0] = 1\n",
    "    for l in range(1,lmax+1):\n",
    "        prefact = np.sqrt(2) * factorial2(2*l-1) / np.sqrt(factorial(2*l))\n",
    "        for k in range(l//2+1):\n",
    "            n1 = 2*k\n",
    "            n0 = l-n1\n",
    "            T[l][2*l,0, n0, n1,0] = binom(l, n1) *(-1)**k  \n",
    "        for k in range((l-1)//2+1):\n",
    "            n1 = 2*k+1\n",
    "            n0 = l-n1\n",
    "            T[l][0,0,n0,n1,0] = binom(l, n1) *(-1)**k\n",
    "        T[l]*= prefact\n",
    "\n",
    "    # Run iteration over (l,m) to generate all coefficients for n=0.\n",
    "    for l in range(1, lmax+1):\n",
    "        deg = l\n",
    "        myiter = iter(monomial_iterator.TrivariateMonomialIndices(deg))\n",
    "        for idx,n0,n1,n2 in myiter:\n",
    "            print(l)\n",
    "            a = prefact_minus1(l-1) # length 2l+1 due to m dependence\n",
    "            b = prefact_minus2(l-1) # length 2l+1 due to m dependence\n",
    "    \n",
    "            #(-l+1)+2: (l+1) -2 gets contributions from T[l-1]\n",
    "            if n0-2>=0:\n",
    "                print(\"n0\",l)\n",
    "                T[l][2:2*l-1,0,n0,n1,n2] += b * T[l-2][:,0,n0-2,n1,n2]\n",
    "            if n1-2>=0:\n",
    "                print(\"n1\",l)\n",
    "                T[l][2:2*l-1,0,n0,n1,n2] += b * T[l-2][:,0,n0,n1-2,n2]\n",
    "            if n2-2>=0:\n",
    "                print(\"n2\",l)\n",
    "                T[l][2:2*l-1,0,n0,n1,n2] += b * T[l-2][:,0,n0,n1,n2-2]\n",
    "            #(-l+1)+1: (l+1) -1 gets contributions from T[l]\n",
    "            if n2-1>=0:\n",
    "                print(\"n2>1\",l)\n",
    "                print(T[l][1:2*l,0,n0,n1,n2].shape, a.shape,T[l-1][:,0,n0,n1,n2-1].shape )\n",
    "                T[l][1:2*l,0,n0,n1,n2] += a * T[l-1][:,0,n0,n1,n2-1]\n",
    "#                 a's length needs to be fixed \n",
    "                \n",
    "    # Run the iteration over n\n",
    "#     B_{n+1,lm} = r^2 B_{nlm} = (x^2+y^2+z^2)B_{nlm}\n",
    "#     T^{n+1,lm}_{n_0+2,n_1,n_2} += T^{n,lm}_{n_0,n_1n_2}\n",
    "#     T^{n+1,lm}_{n_0,n_1+2,n_2} += T^{n,lm}_{n_0,n_1n_2}\n",
    "#     T^{n+1,lm}_{n_0,n_1,n_2+2} += T^{n,lm}_{n_0,n_1n_2}\n",
    "    for l in range(lmax+1):\n",
    "        for n in range(1,num_ns[l]):\n",
    "            deg = l + 2*n # degree of polynomial\n",
    "            myiter = iter(monomial_iterator.TrivariateMonomialIndices(deg))\n",
    "            for idx,n0,n1,n2 in myiter:\n",
    "                # Use recurrence relation to update\n",
    "                # Warning, if n0-2, n1-2 or n2-2 are negative\n",
    "                # it might be necessary to add if statements\n",
    "                # to avoid.\n",
    "                if n0>=2:\n",
    "                    T[l][:,n,n0,n1,n2] += T[l][:,n-1,n0-2,n1,n2]\n",
    "                if n1>=2:\n",
    "                    T[l][:,n,n0,n1,n2] += T[l][:,n-1,n0,n1-2,n2]\n",
    "                if n2>=2:\n",
    "                    T[l][:,n,n0,n1,n2] += T[l][:,n-1,n0,n1,n2-2]\n",
    "\n",
    "    return T"
   ]
  },
  {
   "cell_type": "code",
   "execution_count": 86,
   "id": "0a1d26c9",
   "metadata": {
    "hidden": true
   },
   "outputs": [
    {
     "name": "stdout",
     "output_type": "stream",
     "text": [
      "1\n",
      "1\n",
      "1\n",
      "n2>1 1\n",
      "(1,) (1,) (1,)\n",
      "2\n",
      "n0 2\n",
      "2\n",
      "2\n",
      "n2>1 2\n",
      "(3,) (3,) (3,)\n",
      "2\n",
      "n1 2\n",
      "2\n",
      "n2>1 2\n",
      "(3,) (3,) (3,)\n",
      "2\n",
      "n2 2\n",
      "n2>1 2\n",
      "(3,) (3,) (3,)\n"
     ]
    }
   ],
   "source": [
    "lmax=2\n",
    "num_ns=[1,1,2]\n",
    "test = spherical_to_cartesian2(lmax, num_ns)"
   ]
  },
  {
   "cell_type": "code",
   "execution_count": 87,
   "id": "12ade3b2",
   "metadata": {
    "hidden": true
   },
   "outputs": [],
   "source": [
    "from anisoap.utils.spherical_to_cartesian import spherical_to_cartesian\n",
    "ref = spherical_to_cartesian(lmax, num_ns)\n"
   ]
  },
  {
   "cell_type": "code",
   "execution_count": 88,
   "id": "c6534aad",
   "metadata": {
    "hidden": true
   },
   "outputs": [
    {
     "name": "stdout",
     "output_type": "stream",
     "text": [
      "0.0\n",
      "0.0\n",
      "0.0\n"
     ]
    }
   ],
   "source": [
    "for i in range(len(ref)):\n",
    "    print(np.linalg.norm(ref[i]-test[i]))"
   ]
  },
  {
   "cell_type": "markdown",
   "id": "45f1b1e4",
   "metadata": {},
   "source": [
    "# projection_coefficients"
   ]
  },
  {
   "cell_type": "code",
   "execution_count": 1,
   "id": "2c63a02d",
   "metadata": {},
   "outputs": [],
   "source": [
    "%load_ext autoreload\n",
    "%autoreload 2"
   ]
  },
  {
   "cell_type": "code",
   "execution_count": 3,
   "id": "00a3b619",
   "metadata": {},
   "outputs": [],
   "source": [
    "from anisoap.utils.spherical_to_cartesian import spherical_to_cartesian\n",
    "import numpy as np\n",
    "try:\n",
    "    from tqdm import tqdm\n",
    "except ImportError:\n",
    "    tqdm = (lambda i, **kwargs: i)\n",
    "\n",
    "from anisoap.utils import compute_moments_diagonal_inefficient_implementation\n",
    "from anisoap.utils import quaternion_to_rotation_matrix\n",
    "from anisoap.representations.radial_basis import RadialBasis\n",
    "from anisoap.utils import compute_moments_inefficient_implementation\n",
    "\n",
    "from metatensor import TensorBlock, TensorMap,Labels"
   ]
  },
  {
   "cell_type": "code",
   "execution_count": 4,
   "id": "8ba14471",
   "metadata": {},
   "outputs": [],
   "source": [
    "from ase.io import read\n",
    "from rascaline import NeighborList\n",
    "import ase\n",
    "frames = read('/Users/jigyasa/scratch/data_papers/data/water/dataset/water_randomized_1000.xyz', ':2')\n",
    "frames2 = read(\"/Users/jigyasa/scratch/metatensor-examples/data/hamiltonian/ethanol-hamiltonian/ethanol_4500.xyz\",\":1\")\n",
    "frames3= [ase.build.molecule('NH3')]\n",
    "frames = frames+frames2+frames3\n",
    "for f in frames: \n",
    "    f.pbc=True\n",
    "    f.cell=[4,4,4]"
   ]
  },
  {
   "cell_type": "code",
   "execution_count": 5,
   "id": "679cb276",
   "metadata": {},
   "outputs": [],
   "source": [
    "from anisoap.utils.moment_generator import *\n",
    "from anisoap.utils.quaternion_to_rotation_matrix import  quaternion_to_rotation_matrix\n",
    "from anisoap.representations.radial_basis import RadialBasis\n",
    "from anisoap.utils import compute_moments_inefficient_implementation\n",
    "from itertools import product\n",
    "import anisoap.representations.radial_basis as radial_basis"
   ]
  },
  {
   "cell_type": "code",
   "execution_count": 6,
   "id": "22d74965",
   "metadata": {},
   "outputs": [],
   "source": [
    "#hypers\n",
    "rcut = 4\n",
    "lmax = 4\n",
    "radial_basis_name = 'monomial'\n",
    "radial_hypers={}\n",
    "radial_hypers['radial_basis'] = radial_basis_name.lower() # lower case\n",
    "radial_hypers['radial_gaussian_width'] = 0.2\n",
    "radial_hypers['max_angular'] = lmax\n",
    "\n",
    "radial_basis = RadialBasis(**radial_hypers)\n",
    "\n",
    "num_ns = []\n",
    "for l in range(lmax+1):\n",
    "#     num_ns.append(lmax + 1 - l)\n",
    "    num_ns.append(1)\n",
    "sph_to_cart = spherical_to_cartesian(lmax, num_ns)"
   ]
  },
  {
   "cell_type": "code",
   "execution_count": 47,
   "id": "b437267e",
   "metadata": {},
   "outputs": [
    {
     "ename": "ModuleNotFoundError",
     "evalue": "No module named 'anisoap.representations.projection_coefficients_modified'",
     "output_type": "error",
     "traceback": [
      "\u001b[0;31m---------------------------------------------------------------------------\u001b[0m",
      "\u001b[0;31mModuleNotFoundError\u001b[0m                       Traceback (most recent call last)",
      "Cell \u001b[0;32mIn [47], line 1\u001b[0m\n\u001b[0;32m----> 1\u001b[0m \u001b[38;5;28;01mfrom\u001b[39;00m \u001b[38;5;21;01manisoap\u001b[39;00m\u001b[38;5;21;01m.\u001b[39;00m\u001b[38;5;21;01mrepresentations\u001b[39;00m\u001b[38;5;21;01m.\u001b[39;00m\u001b[38;5;21;01mprojection_coefficients_modified\u001b[39;00m \u001b[38;5;28;01mimport\u001b[39;00m \u001b[38;5;241m*\u001b[39m\n",
      "\u001b[0;31mModuleNotFoundError\u001b[0m: No module named 'anisoap.representations.projection_coefficients_modified'"
     ]
    }
   ],
   "source": [
    "# from anisoap.representations.projection_coefficients_modified import *\n",
    "# dp = DensityProjectionCalculator(lmax,\n",
    "#                  'monomial',\n",
    "#                  rcut,\n",
    "#                  compute_gradients=False,\n",
    "#                  subtract_center_contribution=False,\n",
    "#                  radial_gaussian_width = None)\n",
    "# dp.transform(frames)"
   ]
  },
  {
   "cell_type": "code",
   "execution_count": 7,
   "id": "95c06ac1",
   "metadata": {},
   "outputs": [],
   "source": [
    "num_frames = len(frames)\n",
    "num_atoms_per_frame = np.zeros((num_frames),int)\n",
    "species = set()\n",
    "\n",
    "for i,f in enumerate(frames):\n",
    "    num_atoms_per_frame[i] = len(f)\n",
    "    for atom in f:\n",
    "        species.add(atom.number)\n",
    "\n",
    "num_atoms = sum(num_atoms_per_frame)\n",
    "species = sorted(species)"
   ]
  },
  {
   "cell_type": "code",
   "execution_count": 8,
   "id": "2034b489",
   "metadata": {},
   "outputs": [],
   "source": [
    "frame_to_global_atom_idx = np.zeros((num_frames),int)\n",
    "for n in range(1,num_frames):\n",
    "    frame_to_global_atom_idx[n] = num_atoms_per_frame[n-1] + frame_to_global_atom_idx[n-1]\n"
   ]
  },
  {
   "cell_type": "code",
   "execution_count": 58,
   "id": "1efa1a1c",
   "metadata": {},
   "outputs": [],
   "source": [
    "quaternions = np.zeros((num_atoms,4))\n",
    "ellipsoid_lengths = np.zeros((num_atoms, 3))\n",
    "\n",
    "for i in range(num_atoms):\n",
    "    quaternions[i]= [0, 0, np.sin(np.pi/4), np.cos(np.pi/4)]\n",
    "    ellipsoid_lengths[i] = [0.5,0.3,0.4]\n",
    "\n",
    "# Convert quaternions to rotation matrices\n",
    "rotation_matrices = np.zeros((num_atoms,3,3))\n",
    "for i, quat in enumerate(quaternions):\n",
    "    rotation_matrices[i] = quaternion_to_rotation_matrix(quat)\n"
   ]
  },
  {
   "cell_type": "code",
   "execution_count": 9,
   "id": "46fb5c87",
   "metadata": {},
   "outputs": [],
   "source": [
    "nl = NeighborList(rcut, True).compute(frames)\n",
    "keys=np.array(nl.keys.asarray(), dtype=int)\n",
    "keys=[tuple(i)+(l,) for i in keys for l in range(lmax+1)]"
   ]
  },
  {
   "cell_type": "code",
   "execution_count": 10,
   "id": "83ceba0b",
   "metadata": {},
   "outputs": [
    {
     "data": {
      "text/plain": [
       "(150, 3, 1)"
      ]
     },
     "execution_count": 10,
     "metadata": {},
     "output_type": "execute_result"
    }
   ],
   "source": [
    "nl.block(0).values.shape"
   ]
  },
  {
   "cell_type": "code",
   "execution_count": 11,
   "id": "5f5cda5e",
   "metadata": {},
   "outputs": [],
   "source": [
    "def pairwise_aniso_expansion(neighbor_list, species, frame_to_global_atom_idx, rotation_matrices, ellipsoid_lengths, radial_basis):\n",
    "    \"\"\"\n",
    "    Function to compute the pairwise expansion <anlm|rho_ij> by combining the moments and the spherical to Cartesian \n",
    "    transformation\n",
    "    --------------------------------------------------------\n",
    "    Parameters:\n",
    "    \n",
    "    neighbor_list : Equistore TensorMap \n",
    "        Full neighborlist with keys (species_1, species_2) enumerating the possible species pairs.\n",
    "        Each block contains as samples, the atom indices of (first_atom, second_atom) that correspond to the key,\n",
    "        and block.value is a 3D array of the form (num_samples, num_components,properties), with num_components=3 \n",
    "        corresponding to the (x,y,z) components of the vector from first_atom to second_atom.\n",
    "        Depending on the cutoff some species pairs may not appear. Self pairs are not present but in PBC,\n",
    "        pairs between copies of the same atom are accounted for.\n",
    "       \n",
    "    species: list of ints\n",
    "        List of atomic numbers present across the data frames \n",
    "        \n",
    "    frame_to_global_atom_idx: list of ints\n",
    "        The length of the list equals the number of frames, each entry enumerating the number of atoms in\n",
    "        corresponding frame\n",
    "        \n",
    "    rotation_matrices: np.array of dimension ((num_atoms,3,3))\n",
    "        \n",
    "    ellipsoid_lengths: np.array of dimension ((num_atoms,3))\n",
    "    \n",
    "    radial_basis : Instance of the RadialBasis Class\n",
    "        anisoap.representations.radial_basis.RadialBasis that has been instantiated appropriately with the \n",
    "        cutoff radius, radial basis type.\n",
    "    -----------------------------------------------------------\n",
    "    Returns: \n",
    "        An Equistore TensorMap with keys (species_1, species_2, l) where (\"species_1\", \"species_2\") is key in the \n",
    "        neighbor_list and \"l\" is the angular channel.\n",
    "        Each block of this tensormap has the same samples as the corresponding block of the neighbor_list.\n",
    "        block.value is a 3D array of the form (num_samples, num_components, properties) where num_components \n",
    "        form the 2*l+1 values for the corresponding angular channel and the properties dimension corresponds to \n",
    "        the radial channel.\n",
    "        \n",
    "    \"\"\" \n",
    "    tensorblock_list = []\n",
    "    tensormap_keys = []\n",
    "\n",
    "    for center_species in species:\n",
    "        for neighbor_species in species:\n",
    "            if (center_species, neighbor_species) in neighbor_list.keys:\n",
    "                values_ldict = {l:[] for l in range(lmax+1)}\n",
    "                nl_block = neighbor_list.block(species_first_atom=center_species, species_second_atom=neighbor_species)\n",
    "\n",
    "                for isample, nl_sample in enumerate(nl_block.samples):\n",
    "                    frame_idx, i,j = nl_sample[\"structure\"], nl_sample[\"first_atom\"], nl_sample[\"second_atom\"]\n",
    "                    i_global = frame_to_global_atom_idx[frame_idx] +i\n",
    "                    j_global = frame_to_global_atom_idx[frame_idx] +j\n",
    "\n",
    "                    r_ij = np.asarray([nl_block.values[isample,0], nl_block.values[isample,1],nl_block.values[isample,2]]).reshape(3,)\n",
    "    #                 r_ij = pos_i - positions[j_global]\n",
    "\n",
    "                    rot = rotation_matrices[j_global]\n",
    "                    lengths = ellipsoid_lengths[j_global]\n",
    "                    precision, center =  radial_basis.compute_gaussian_parameters(r_ij, lengths, rot)\n",
    "    #                 moments = compute_moments_inefficient_implementation(precision, center, maxdeg=lmax)\n",
    "\n",
    "                    for l in range(lmax+1):\n",
    "                        moments = np.ones(sph_to_cart[l].shape[-3:])\n",
    "                        values_ldict[l].append(np.einsum(\"mnpqr, pqr->mn\", sph_to_cart[l], moments))\n",
    "\n",
    "\n",
    "                for l in range(lmax+1):\n",
    "                    block = TensorBlock(values = np.asarray(values_ldict[l]), \n",
    "                                        samples = nl_block.samples, #as many rows as samples\n",
    "                                        components = [Labels(['spherical_component_m'], np.asarray([list(range(-l,l+1))], np.int32).reshape(-1,1) )],\n",
    "                                        properties = Labels(['n'],np.asarray(list(range(num_ns[l])), np.int32).reshape(-1,1))\n",
    "                                       )\n",
    "                    tensorblock_list.append(block)\n",
    "\n",
    "\n",
    "    pairwise_aniso_feat = TensorMap(Labels([\"species_center\", \"species_neighbor\", \"angular_channel\"],np.asarray(keys, dtype=np.int32)), tensorblock_list)\n",
    "    return pairwise_aniso_feat"
   ]
  },
  {
   "cell_type": "code",
   "execution_count": 12,
   "id": "dc86c583",
   "metadata": {},
   "outputs": [],
   "source": [
    "pairwise_aniso_feat = pairwise_aniso_expansion(nl, species, frame_to_global_atom_idx, rotation_matrices, ellipsoid_lengths, radial_basis)"
   ]
  },
  {
   "cell_type": "code",
   "execution_count": 13,
   "id": "33f3bd25",
   "metadata": {},
   "outputs": [
    {
     "data": {
      "text/plain": [
       "TensorMap with 50 blocks\n",
       "keys: ['species_center' 'species_neighbor' 'angular_channel']\n",
       "              1                1                 0\n",
       "              1                1                 1\n",
       "              1                1                 2\n",
       "           ...\n",
       "              8                6                 2\n",
       "              8                6                 3\n",
       "              8                6                 4"
      ]
     },
     "execution_count": 13,
     "metadata": {},
     "output_type": "execute_result"
    }
   ],
   "source": [
    "pairwise_aniso_feat"
   ]
  },
  {
   "cell_type": "code",
   "execution_count": 380,
   "id": "5bc8fc85",
   "metadata": {},
   "outputs": [
    {
     "data": {
      "text/plain": [
       "(5, 5, 5)"
      ]
     },
     "execution_count": 380,
     "metadata": {},
     "output_type": "execute_result"
    }
   ],
   "source": [
    "moments.shape"
   ]
  },
  {
   "cell_type": "code",
   "execution_count": 367,
   "id": "9a991cce",
   "metadata": {},
   "outputs": [
    {
     "data": {
      "text/plain": [
       "(9, 1, 5, 5, 5)"
      ]
     },
     "execution_count": 367,
     "metadata": {},
     "output_type": "execute_result"
    }
   ],
   "source": [
    "sph_to_cart[l].shape"
   ]
  },
  {
   "cell_type": "code",
   "execution_count": 51,
   "id": "b874a692",
   "metadata": {},
   "outputs": [],
   "source": [
    "def contract_pairwise_feat(pair_aniso_feat, species):\n",
    "    \"\"\"\n",
    "    Function to sum over the pairwise expansion \\sum_{j in a} <anlm|rho_ij> = <anlm|rho_i>\n",
    "    --------------------------------------------------------\n",
    "    Parameters:\n",
    "    \n",
    "    pair_aniso_feat : Equistore TensorMap \n",
    "        TensorMap returned from \"pairwise_aniso_expansion()\" with keys (species_1, species_2,l) enumerating \n",
    "        the possible species pairs and the angular channels.\n",
    "    \n",
    "    species: list of ints\n",
    "        List of atomic numbers present across the data frames \n",
    "        \n",
    "    -----------------------------------------------------------\n",
    "    Returns: \n",
    "        An Equistore TensorMap with keys (species, l) \"species\" takes the value of the atomic numbers present \n",
    "        in the dataset and \"l\" is the angular channel.\n",
    "        Each block of this tensormap has as samples (\"structure\", \"center\") yielding the indices of the frames \n",
    "        and atoms that correspond to \"species\" are present.\n",
    "        block.value is a 3D array of the form (num_samples, num_components, properties) where num_components \n",
    "        take on the same values as in the pair_aniso_feat_feat.block .  block.properties now has an additional index \n",
    "        for neighbor_species that corresponds to \"a\" in <anlm|rho_i>\n",
    "        \n",
    "    \"\"\" \n",
    "    aniso_keys = list(set([tuple(list(x)[:1]+list(x)[2:]) for x in keys]))\n",
    "    # Select the unique combinations of pair_aniso_feat.keys[\"species_center\"] and \n",
    "    # pair_aniso_feat.keys[\"angular_channel\"] to form the keys of the single particle centered feature \n",
    "    aniso_keys.sort()\n",
    "    aniso_blocks = []\n",
    "    property_names = pair_aniso_feat.property_names + ('neighbor_species',)\n",
    "    \n",
    "    for key in aniso_keys:\n",
    "        contract_blocks=[]\n",
    "        contract_properties=[]\n",
    "        contract_samples=[]\n",
    "        # these collect the values, properties and samples of the blocks when contracted over neighbor_species.\n",
    "        # All these lists have as many entries as len(species). \n",
    "        \n",
    "        for ele in species:\n",
    "            blockidx = pair_aniso_feat.blocks_matching(species_neighbor= ele)\n",
    "            # indices of the blocks in pair_aniso_feat with neighbor species = ele\n",
    "            sel_blocks = [pair_aniso_feat.block(i) for i in blockidx if key==tuple(list(pair_aniso_feat.keys[i])[:1]+list(pair_aniso_feat.keys[i])[2:])]\n",
    "            if not len(sel_blocks):\n",
    "#                 print(key, ele, \"skipped\") # this block is not found in the pairwise feat\n",
    "                continue\n",
    "            assert len(sel_blocks)==1 \n",
    "            \n",
    "            # sel_blocks is the corresponding block in the pairwise feat with the same (species_center, l) and \n",
    "            # species_neighbor = ele thus there can be only one block corresponding to the triplet (species_center, species_neighbor, l)\n",
    "            block = sel_blocks[0]\n",
    "            \n",
    "            pair_block_sample = list(zip(block.samples['structure'], block.samples['first_atom']))\n",
    "            # Takes the structure and first atom index from the current pair_block sample. There might be repeated\n",
    "            # entries here because for example (0,0,1) (0,0,2) might be samples of the pair block (the index of the\n",
    "            # neighbor atom is changing but for both of these we are keeping (0,0) corresponding to the structure and \n",
    "            #first atom. \n",
    "\n",
    "            struct, center = np.unique(block.samples['structure']), np.unique(block.samples['first_atom'])\n",
    "            possible_block_samples = list(product(struct,center))\n",
    "            # possible block samples contains all *unique* possible pairwise products between structure and atom index\n",
    "            # From here we choose the entries that are actually present in the block to form the final sample\n",
    "            \n",
    "            block_samples=[]\n",
    "            block_values = []\n",
    "\n",
    "            for isample, sample in enumerate(possible_block_samples):\n",
    "                sample_idx = [idx for idx, tup in enumerate(pair_block_sample) if tup[0] ==sample[0] and tup[1] == sample[1]]\n",
    "                # all samples of the pair block that match the current sample \n",
    "                # in the example above, for sample = (0,0) we would identify sample_idx = [(0,0,1), (0,0,2)] \n",
    "                if len(sample_idx)==0:\n",
    "                    continue\n",
    "    #             #print(key, ele, sample, block.samples[sample_idx])\n",
    "                block_samples.append(sample)\n",
    "                block_values.append(block.values[sample_idx].sum(axis=0)) #sum over \"j\"  for given ele\n",
    "                \n",
    "                # block_values has as many entries as samples satisfying (key, neighbor_species=ele). \n",
    "                # When we iterate over neighbor species, not all (structure, center) would be present\n",
    "                # Example: (0,0,1) might be present in a block with neighbor_species = 1 but no other pair block \n",
    "                # ever has (0,0,x) present as a sample- so (0,0) doesnt show up in a block_sample for all ele\n",
    "                # so in general we have a ragged list of contract_blocks\n",
    "            \n",
    "            contract_blocks.append(block_values)\n",
    "            contract_samples.append(block_samples)\n",
    "            contract_properties.append([tuple(p)+(ele,) for p in block.properties])\n",
    "            #this adds the \"ele\" (i.e. neighbor_species) to the properties dimension\n",
    "        \n",
    "#         print(len(contract_samples))\n",
    "        all_block_samples= sorted(list(set().union(*contract_samples))) \n",
    "        # Selects the set of samples from all the block_samples we collected by iterating over the neighbor_species\n",
    "        # These form the final samples of the block! \n",
    "\n",
    "        all_block_values = np.zeros(((len(all_block_samples),)+ block.values.shape[1:]+(len(contract_blocks),)))\n",
    "        # Create storage for the final values - we need as many rows as all_block_samples, \n",
    "        # block.values.shape[1:] accounts for \"components\" and \"properties\" that are already part of the pair blocks\n",
    "        # and we dont alter these\n",
    "        # len(contract_blocks) - adds the additional dimension for the neighbor_species since we accumulated \n",
    "        # values for each of them as \\sum_{j in ele} <|rho_ij>\n",
    "        #  Thus - all_block_values.shape = (num_final_samples, components_pair, properties_pair, num_species)\n",
    "        \n",
    "        for iele, elem_cont_samples in enumerate(contract_samples):\n",
    "            # This effectively loops over the species of the neighbors\n",
    "            # Now we just need to add the contributions to the final samples and values from this species to the right\n",
    "            # samples\n",
    "            nzidx=[i for i in range(len(all_block_samples)) if all_block_samples[i] in elem_cont_samples]\n",
    "            # identifies where the samples that this species contributes to, are present in the final samples\n",
    "#             print(apecies[ib],key, bb, all_block_samples)\n",
    "            all_block_values[nzidx,:,:,iele] = contract_blocks[iele]\n",
    "\n",
    "        new_block = TensorBlock(values = all_block_values.reshape(all_block_values.shape[0],all_block_values.shape[1] ,-1),\n",
    "                                        samples = Labels(['structure', 'center'], np.asarray(all_block_samples, np.int32)), \n",
    "                                         components = block.components,\n",
    "                                         properties= Labels(list(property_names), np.asarray(np.vstack(contract_properties),np.int32))\n",
    "                                         )\n",
    "\n",
    "        aniso_blocks.append(new_block)\n",
    "    aniso = TensorMap(Labels(['species_center','angular_channel'],np.asarray(aniso_keys,dtype=np.int32)), aniso_blocks)\n",
    "\n",
    "    return aniso\n"
   ]
  },
  {
   "cell_type": "code",
   "execution_count": 52,
   "id": "ed50e65a",
   "metadata": {},
   "outputs": [
    {
     "data": {
      "text/plain": [
       "TensorMap with 20 blocks\n",
       "keys: ['species_center' 'angular_channel']\n",
       "              1                0\n",
       "              1                1\n",
       "              1                2\n",
       "           ...\n",
       "              8                2\n",
       "              8                3\n",
       "              8                4"
      ]
     },
     "execution_count": 52,
     "metadata": {},
     "output_type": "execute_result"
    }
   ],
   "source": [
    "contract_pairwise_feat(pairwise_aniso_feat, species)"
   ]
  },
  {
   "cell_type": "code",
   "execution_count": null,
   "id": "cb84bfdf",
   "metadata": {},
   "outputs": [],
   "source": []
  },
  {
   "cell_type": "code",
   "execution_count": null,
   "id": "8092b7e8",
   "metadata": {},
   "outputs": [],
   "source": []
  }
 ],
 "metadata": {
  "kernelspec": {
   "display_name": "Python 3 (ipykernel)",
   "language": "python",
   "name": "python3"
  },
  "language_info": {
   "codemirror_mode": {
    "name": "ipython",
    "version": 3
   },
   "file_extension": ".py",
   "mimetype": "text/x-python",
   "name": "python",
   "nbconvert_exporter": "python",
   "pygments_lexer": "ipython3",
   "version": "3.8.13"
  },
  "toc": {
   "base_numbering": 1,
   "nav_menu": {},
   "number_sections": true,
   "sideBar": true,
   "skip_h1_title": false,
   "title_cell": "Table of Contents",
   "title_sidebar": "Contents",
   "toc_cell": false,
   "toc_position": {
    "height": "calc(100% - 180px)",
    "left": "10px",
    "top": "150px",
    "width": "165px"
   },
   "toc_section_display": true,
   "toc_window_display": true
  },
  "varInspector": {
   "cols": {
    "lenName": 16,
    "lenType": 16,
    "lenVar": 40
   },
   "kernels_config": {
    "python": {
     "delete_cmd_postfix": "",
     "delete_cmd_prefix": "del ",
     "library": "var_list.py",
     "varRefreshCmd": "print(var_dic_list())"
    },
    "r": {
     "delete_cmd_postfix": ") ",
     "delete_cmd_prefix": "rm(",
     "library": "var_list.r",
     "varRefreshCmd": "cat(var_dic_list()) "
    }
   },
   "types_to_exclude": [
    "module",
    "function",
    "builtin_function_or_method",
    "instance",
    "_Feature"
   ],
   "window_display": false
  }
 },
 "nbformat": 4,
 "nbformat_minor": 5
}
