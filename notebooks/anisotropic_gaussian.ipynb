{
 "cells": [
  {
   "cell_type": "code",
   "execution_count": 1,
   "id": "burning-majority",
   "metadata": {},
   "outputs": [],
   "source": [
    "import numpy as np\n",
    "from numpy.testing import assert_allclose\n",
    "from scipy.special import gamma\n",
    "from math import comb\n",
    "import matplotlib.pyplot as plt"
   ]
  },
  {
   "cell_type": "code",
   "execution_count": 83,
   "id": "protected-peeing",
   "metadata": {},
   "outputs": [],
   "source": [
    "# Define function to compute all moments for a general dilation matrix.\n",
    "# The implementation focuses on conceptual simplicity, while sacrifizing\n",
    "# memory efficiency.\n",
    "def compute_moments_inefficient_implementation(A, a, maxdeg):\n",
    "    \"\"\"\n",
    "    Parameters:\n",
    "    - A: symmetric 3x3 matrix (np.ndarray of shape (3,3))\n",
    "        Dilation matrix of the Gaussian that determines its shape.\n",
    "        It can be written as cov = RDR^T, where R is a rotation matrix that specifies\n",
    "        the orientation of the three principal axes, while D is a diagonal matrix\n",
    "        whose three diagonal elements are the lengths of the principal axes.\n",
    "    - a: np.ndarray of shape (3,)\n",
    "        Contains the position vector for the center of the trivariate Gaussian.\n",
    "    - maxdeg: int\n",
    "        Maximum degree for which the moments need to be computed.\n",
    "        \n",
    "    Returns:\n",
    "    - The list of moments defined as\n",
    "        <x^n0 * y^n1 * z^n2> = integral (x^n0 * y^n1 * z^n2) * exp(-0.5*(r-a).T@cov@(r-a)) dxdydz\n",
    "        Note that the term \"moments\" in probability theory are defined for normalized Gaussian distributions.\n",
    "        Here, we take the Gaussian \n",
    "    \"\"\"\n",
    "    # Make sure that the provided arrays have the correct dimensions and properties\n",
    "    assert A.shape == (3,3), \"Dilation matrix needs to be 3x3\"\n",
    "    assert np.sum((A-A.T)**2) < 1e-14, \"Dilation matrix needs to be symmetric\"\n",
    "    assert a.shape == (3,), \"Center of Gaussian has to be given by a 3-dim. vector\"\n",
    "    assert maxdeg > 0, \"The maximum degree needs to be at least 1\"\n",
    "    cov = np.linalg.inv(A) # the covariance matrix is the inverse of the matrix A\n",
    "    global_factor = (2*np.pi)**1.5 / np.sqrt(np.linalg.det(A)) # normalization of Gaussian\n",
    "    \n",
    "    # Initialize the array in which to store the moments\n",
    "    # moments[n0, n1, n2] will be set to <x^n0 * y^n1 * z^n2>\n",
    "    # This representation is memory inefficient, since only about 1/3 of the\n",
    "    # array elements will actually be relevant.\n",
    "    # The advantage, however, is the simplicity in later use.\n",
    "    moments = np.zeros((maxdeg+1, maxdeg+1, maxdeg+1))\n",
    "    \n",
    "    # Initialize the first few elements\n",
    "    moments[0,0,0] = 1.\n",
    "    moments[1,0,0] = a[0] # <x>\n",
    "    moments[0,1,0] = a[1] # <y>\n",
    "    moments[0,0,1] = a[2] # <z>\n",
    "    if maxdeg == 1:\n",
    "        return global_factor * moments\n",
    "    \n",
    "    # Initialize the quadratic elements\n",
    "    moments[2,0,0] = cov[0,0] + a[0]**2\n",
    "    moments[0,2,0] = cov[1,1] + a[1]**2\n",
    "    moments[0,0,2] = cov[2,2] + a[2]**2\n",
    "    moments[1,1,0] = cov[0,1] + a[0]*a[1]\n",
    "    moments[0,1,1] = cov[1,2] + a[1]*a[2]\n",
    "    moments[1,0,1] = cov[2,0] + a[2]*a[0]\n",
    "    if maxdeg == 2:\n",
    "        return global_factor * moments\n",
    "    \n",
    "    # Iterate over all possible exponents to generate all moments\n",
    "    # Instead of iterating over n1, n2 and n3, we iterate over the total degree of the monomials\n",
    "    # which will allow us to simplify certain edge cases.\n",
    "    for deg in range(2, maxdeg):\n",
    "        for n0 in range(deg+1):\n",
    "            for n1 in range(deg+1-n0):\n",
    "                # We consider monomials of degree \"deg\", and generate moments of degree deg+1.\n",
    "                n2 = deg - n0 - n1\n",
    "                \n",
    "                # Run the x-iteration\n",
    "                moments[n0+1,n1,n2] = a[0]*moments[n0,n1,n2] + cov[0,0]*n0*moments[n0-1,n1,n2]\n",
    "                moments[n0+1,n1,n2] += cov[0,1]*n1*moments[n0,n1-1,n2] + cov[0,2]*n2*moments[n0,n1,n2-1]\n",
    "                \n",
    "                # If n0 is equal to zero, we also need the y- and z-iterations\n",
    "                if n0 == 0:\n",
    "                    # Run the y-iteration\n",
    "                    moments[n0,n1+1,n2] = a[1]*moments[n0,n1,n2] + cov[1,0]*n0*moments[n0-1,n1,n2]\n",
    "                    moments[n0,n1+1,n2] += cov[1,1]*n1*moments[n0,n1-1,n2] + cov[1,2]*n2*moments[n0,n1,n2-1]\n",
    "                    \n",
    "                    if n0 == 0 and n1 == 0:\n",
    "                        # Run the z-iteration\n",
    "                        moments[n0,n1,n2+1] = a[2]*moments[n0,n1,n2] + cov[2,0]*n0*moments[n0-1,n1,n2]\n",
    "                        moments[n0,n1,n2+1] += cov[2,1]*n1*moments[n0,n1-1,n2] + cov[2,2]*n2*moments[n0,n1,n2-1]\n",
    "    \n",
    "    return global_factor * moments"
   ]
  },
  {
   "cell_type": "markdown",
   "id": "concerned-phenomenon",
   "metadata": {},
   "source": [
    "# Comparing the general code vs a special purpose diagonal-only version"
   ]
  },
  {
   "cell_type": "markdown",
   "id": "latest-thesis",
   "metadata": {},
   "source": [
    "We now define the same code that only works for already diagonalized dilation matrices."
   ]
  },
  {
   "cell_type": "code",
   "execution_count": 5,
   "id": "combined-power",
   "metadata": {},
   "outputs": [],
   "source": [
    "def compute_moments_single_variable(A, a, maxdeg):\n",
    "    \"\"\"\n",
    "    Parameters:\n",
    "    - A: inverse of variance\n",
    "    - a: center\n",
    "    - maxdeg: int\n",
    "        Maximum degree for which the moments need to be computed.\n",
    "        \n",
    "    Returns:\n",
    "    - A numpy array of size (maxdeg+1, ) containing the moments defined as\n",
    "        <x^n> = integral x^n exp(-A(x-a)^2/2) dx\n",
    "    \"\"\"\n",
    "    assert maxdeg > 0\n",
    "    moments = np.zeros((maxdeg+1, ))\n",
    "    moments[0] = np.sqrt(2*np.pi/A)\n",
    "    moments[1] = a * moments[0]\n",
    "    \n",
    "    # If maxdeg = 1, there is nothing more to do\n",
    "    if maxdeg == 1:\n",
    "        return moments\n",
    "    \n",
    "    for deg in range(1, maxdeg):\n",
    "        moments[deg+1] = a*moments[deg] + deg*moments[deg-1] / A\n",
    "        \n",
    "    return moments"
   ]
  },
  {
   "cell_type": "code",
   "execution_count": 6,
   "id": "executive-resource",
   "metadata": {},
   "outputs": [],
   "source": [
    "# Define function to compute all moments for a diagonal dilation matrix.\n",
    "# The implementation focuses on conceptual simplicity, while sacrifizing\n",
    "# memory efficiency.\n",
    "def compute_moments_diagonal_inefficient_implementation(principcal_components, a, maxdeg):\n",
    "    \"\"\"\n",
    "    Parameters:\n",
    "    - principal_components: np.ndarray of shape (3,)\n",
    "        Array containing the three principal components\n",
    "    - a: np.ndarray of shape (3,)\n",
    "        Contains the information about the center of the trivariate Gaussian.\n",
    "    - maxdeg: int\n",
    "        Maximum degree for which the moments need to be computed.\n",
    "        \n",
    "    Returns:\n",
    "    - The list of moments defined as\n",
    "        <x^n0 * y^n1 * z^n2> = integral (x^n0 * y^n1 * z^n2) * exp(-0.5*(r-a).T@cov@(r-a)) dxdydz\n",
    "        Note that the term \"moments\" in probability theory are defined for normalized Gaussian distributions.\n",
    "        Here, we take the Gaussian \n",
    "    \"\"\"\n",
    "    # Initialize the array in which to store the moments\n",
    "    # moments[n0, n1, n2] will be set to <x^n0 * y^n1 * z^n2>\n",
    "    # This representation is very inefficient, since only about 1/6 of the\n",
    "    # array elements will actually be relevant.\n",
    "    # The advantage, however, is the simplicity in later use.\n",
    "    moments = np.zeros((maxdeg+1, maxdeg+1, maxdeg+1))\n",
    "    \n",
    "    # Precompute the single variable moments in x- y- and z-directions:\n",
    "    moments_x = compute_moments_single_variable(principal_components[0], a[0], maxdeg)\n",
    "    moments_y = compute_moments_single_variable(principal_components[1], a[1], maxdeg)\n",
    "    moments_z = compute_moments_single_variable(principal_components[2], a[2], maxdeg)\n",
    "\n",
    "    # Compute values for all relevant components for which the monomial degree is <= maxdeg\n",
    "    for n0 in range(maxdeg+1):\n",
    "        for n1 in range(maxdeg+1):\n",
    "            for n2 in range(maxdeg+1):\n",
    "                # Make sure that the degree is not above the maximal degree\n",
    "                deg = n0 + n1 + n2\n",
    "                if deg > maxdeg:\n",
    "                    continue\n",
    "                    \n",
    "                # If not, the moment is a product of the x- y- and z-integrals\n",
    "                moments[n0, n1, n2] = moments_x[n0] * moments_y[n1] * moments_z[n2]\n",
    "    return moments"
   ]
  },
  {
   "cell_type": "markdown",
   "id": "helpful-philippines",
   "metadata": {},
   "source": [
    "### Test the single variable case"
   ]
  },
  {
   "cell_type": "markdown",
   "id": "mobile-richmond",
   "metadata": {},
   "source": [
    "Centered Gaussian"
   ]
  },
  {
   "cell_type": "code",
   "execution_count": 7,
   "id": "tropical-declaration",
   "metadata": {},
   "outputs": [],
   "source": [
    "sigma = 0.32\n",
    "a = 0.\n",
    "maxdeg = 5\n",
    "A = 1/sigma**2\n",
    "moments_single = compute_moments_single_variable(A, a, maxdeg)"
   ]
  },
  {
   "cell_type": "code",
   "execution_count": 8,
   "id": "knowing-tooth",
   "metadata": {},
   "outputs": [],
   "source": [
    "exact_values = np.zeros((maxdeg+1,))\n",
    "for deg in range(maxdeg+1):\n",
    "    exact_value = 0\n",
    "    if deg % 2 == 0:\n",
    "        neff = (deg + 1) / 2\n",
    "        exact_value = (2 * sigma**2)**neff * gamma(neff)\n",
    "    exact_values[deg] = exact_value"
   ]
  },
  {
   "cell_type": "code",
   "execution_count": 9,
   "id": "chicken-former",
   "metadata": {},
   "outputs": [],
   "source": [
    "assert_allclose(exact_values, moments_single,atol=1e-15)"
   ]
  },
  {
   "cell_type": "markdown",
   "id": "parallel-psychology",
   "metadata": {},
   "source": [
    "Non centered Gaussian"
   ]
  },
  {
   "cell_type": "code",
   "execution_count": 10,
   "id": "fossil-wallet",
   "metadata": {},
   "outputs": [],
   "source": [
    "sigma = 0.23\n",
    "A = 1/sigma**2\n",
    "a = 0.5\n",
    "maxdeg = 5\n",
    "moments_single = compute_moments_single_variable(A, a, maxdeg)"
   ]
  },
  {
   "cell_type": "code",
   "execution_count": 11,
   "id": "appointed-detective",
   "metadata": {},
   "outputs": [],
   "source": [
    "def test_non_centered_moments(A, a, maxdeg):\n",
    "    # Compute the exact moments for the centered moments\n",
    "    centered_moments = np.zeros((maxdeg+1,))\n",
    "    for deg in range(maxdeg+1):\n",
    "        exact_value = 0\n",
    "        if deg % 2 == 0:\n",
    "            neff = (deg + 1) / 2\n",
    "            exact_value = (2 * sigma**2)**neff * gamma(neff)\n",
    "        centered_moments[deg] = exact_value\n",
    "    \n",
    "    # Compute the moments from the binomial theorem\n",
    "    moments = np.zeros((maxdeg+1,))\n",
    "    for deg in range(maxdeg+1):\n",
    "        moments[deg] += centered_moments[deg]\n",
    "        \n",
    "        # Get the correction from the centered moment\n",
    "        for k in range(deg):\n",
    "            moments[deg] -= comb(deg, k) * (-a)**(deg-k) * moments[k]\n",
    "    \n",
    "    moments_from_code = compute_moments_single_variable(A, a, maxdeg)\n",
    "    \n",
    "    assert_allclose(moments_from_code, moments)"
   ]
  },
  {
   "cell_type": "markdown",
   "id": "announced-organic",
   "metadata": {},
   "source": [
    "### Test the diagonal implementation "
   ]
  },
  {
   "cell_type": "markdown",
   "id": "declared-method",
   "metadata": {},
   "source": [
    "Check agreement with the exact expression for degrees 0, 1, 2, 3."
   ]
  },
  {
   "cell_type": "code",
   "execution_count": 90,
   "id": "similar-opposition",
   "metadata": {},
   "outputs": [],
   "source": [
    "principal_components = np.array([2.8,0.4,1.1])\n",
    "A = np.diag(principal_components)\n",
    "a = np.array([3.1, -2.3, 5.92])\n",
    "#a *= 0\n",
    "maxdeg = 3\n",
    "moments_general = compute_moments_inefficient_implementation(A, a, maxdeg)\n",
    "moments_diagonal = compute_moments_diagonal_inefficient_implementation(principal_components, a, maxdeg)"
   ]
  },
  {
   "cell_type": "code",
   "execution_count": 89,
   "id": "given-liberia",
   "metadata": {},
   "outputs": [],
   "source": [
    "def get_exact_moments(A, a, maxdeg=3):\n",
    "    global_factor = (2*np.pi)**1.5 / np.sqrt(np.linalg.det(A))\n",
    "    assert maxdeg in [1,2,3]\n",
    "    \n",
    "    moments_exact = np.zeros((maxdeg+1, maxdeg+1, maxdeg+1))\n",
    "    moments_exact[0,0,0] = 1.\n",
    "    # Exact expressions for degree 1\n",
    "    moments_exact[1,0,0] = a[0]\n",
    "    moments_exact[0,1,0] = a[1]\n",
    "    moments_exact[0,0,1] = a[2]\n",
    "    if maxdeg == 1:\n",
    "        return global_factor * moments_exact\n",
    "\n",
    "    # Exact expressions for degree 2\n",
    "    moments_exact[2,0,0] = cov[0,0] + a[0]**2\n",
    "    moments_exact[0,2,0] = cov[1,1] + a[1]**2\n",
    "    moments_exact[0,0,2] = cov[2,2] + a[2]**2\n",
    "    moments_exact[1,1,0] = a[0]*a[1]\n",
    "    moments_exact[0,1,1] = a[1]*a[2]\n",
    "    moments_exact[1,0,1] = a[0]*a[2]\n",
    "    if maxdeg == 2:\n",
    "        return global_factor * moments_exact\n",
    "\n",
    "    # Exact expressions for degree 3\n",
    "    moments_exact[3,0,0] = 3*a[0]*cov[0,0] + a[0]**3\n",
    "    moments_exact[0,3,0] = 3*a[1]*cov[1,1] + a[1]**3\n",
    "    moments_exact[0,0,3] = 3*a[2]*cov[2,2] + a[2]**3\n",
    "    moments_exact[2,1,0] = a[1]*(cov[0,0] + a[0]**2) +  2*a[0]*cov[0,1]\n",
    "    moments_exact[2,0,1] = a[2]*(cov[0,0] + a[0]**2) +  2*a[0]*cov[0,2]\n",
    "    moments_exact[1,2,0] = a[0]*(cov[1,1] + a[1]**2) +  2*a[1]*cov[1,0]\n",
    "    moments_exact[0,2,1] = a[2]*(cov[1,1] + a[1]**2) +  2*a[1]*cov[1,2]\n",
    "    moments_exact[1,0,2] = a[0]*(cov[2,2] + a[2]**2) +  2*a[2]*cov[2,0]\n",
    "    moments_exact[0,1,2] = a[1]*(cov[2,2] + a[2]**2) +  2*a[2]*cov[2,1]\n",
    "    moments_exact[1,1,1] = a[0]*a[1]*a[2] + a[0]*cov[1,2] + a[1]*cov[0,2] + a[2]*cov[0,1]\n",
    "    if maxdeg == 3:\n",
    "        return global_factor * moments_exact"
   ]
  },
  {
   "cell_type": "code",
   "execution_count": 59,
   "id": "organized-identifier",
   "metadata": {},
   "outputs": [],
   "source": [
    "moments_exact = np.zeros((4,4,4))\n",
    "moments_exact[0,0,0] = 1.\n",
    "# Exact expressions for degree 1\n",
    "moments_exact[1,0,0] = a[0]\n",
    "moments_exact[0,1,0] = a[1]\n",
    "moments_exact[0,0,1] = a[2]\n",
    "\n",
    "# Exact expressions for degree 2\n",
    "moments_exact[2,0,0] = cov[0,0] + a[0]**2\n",
    "moments_exact[0,2,0] = cov[1,1] + a[1]**2\n",
    "moments_exact[0,0,2] = cov[2,2] + a[2]**2\n",
    "moments_exact[1,1,0] = a[0]*a[1]\n",
    "moments_exact[0,1,1] = a[1]*a[2]\n",
    "moments_exact[1,0,1] = a[0]*a[2]\n",
    "\n",
    "# Exact expressions for degree 3\n",
    "moments_exact[3,0,0] = 3*a[0]*cov[0,0] + a[0]**3\n",
    "moments_exact[0,3,0] = 3*a[1]*cov[1,1] + a[1]**3\n",
    "moments_exact[0,0,3] = 3*a[2]*cov[2,2] + a[2]**3\n",
    "moments_exact[2,1,0] = a[1]*(cov[0,0] + a[0]**2) +  2*a[0]*cov[0,1]\n",
    "moments_exact[2,0,1] = a[2]*(cov[0,0] + a[0]**2) +  2*a[0]*cov[0,2]\n",
    "moments_exact[1,2,0] = a[0]*(cov[1,1] + a[1]**2) +  2*a[1]*cov[1,0]\n",
    "moments_exact[0,2,1] = a[2]*(cov[1,1] + a[1]**2) +  2*a[1]*cov[1,2]\n",
    "moments_exact[1,0,2] = a[0]*(cov[2,2] + a[2]**2) +  2*a[2]*cov[2,0]\n",
    "moments_exact[0,1,2] = a[1]*(cov[2,2] + a[2]**2) +  2*a[2]*cov[2,1]\n",
    "moments_exact[1,1,1] = a[0]*a[1]*a[2] + a[0]*cov[1,2] + a[1]*cov[0,2] + a[2]*cov[0,1]\n",
    "\n",
    "moments_exact *= (2*np.pi)**1.5 / np.sqrt(np.prod(principal_components))"
   ]
  },
  {
   "cell_type": "code",
   "execution_count": 92,
   "id": "comprehensive-occurrence",
   "metadata": {},
   "outputs": [],
   "source": [
    "moments_exact = get_exact_moments(A, a, maxdeg=3)\n",
    "assert_allclose(moments_exact, moments_diagonal, rtol=1e-14, atol=1e-14)\n",
    "assert_allclose(moments_exact, moments_general, rtol=1e-14, atol=1e-14)"
   ]
  },
  {
   "cell_type": "markdown",
   "id": "aware-voltage",
   "metadata": {},
   "source": [
    "Test correctness for isotropic special case."
   ]
  },
  {
   "cell_type": "code",
   "execution_count": 78,
   "id": "welcome-spelling",
   "metadata": {},
   "outputs": [],
   "source": [
    "sigma = 0.32\n",
    "principal_components = np.ones((3,)) / sigma**2\n",
    "A = np.diag(principal_components)\n",
    "a0 = 3.2\n",
    "a = a0 * np.ones((3,))\n",
    "maxdeg = 8\n",
    "moments_diagonal = compute_moments_diagonal_inefficient_implementation(principal_components, a, maxdeg)"
   ]
  },
  {
   "cell_type": "code",
   "execution_count": 79,
   "id": "liable-syndrome",
   "metadata": {},
   "outputs": [],
   "source": [
    "eps = 1e-12\n",
    "for n0 in range(maxdeg+1):\n",
    "    for n1 in range(maxdeg+1):\n",
    "        for n2 in range(maxdeg+1):\n",
    "            deg = n0 + n1 + n2\n",
    "            if deg > maxdeg:\n",
    "                assert moments_diagonal[n0, n1, n2] == 0\n",
    "            else:\n",
    "                assert abs(moments_diagonal[n0,n1,n2]-moments_diagonal[n1,n0,n2]) < eps\n",
    "                assert abs(moments_diagonal[n0,n1,n2]-moments_diagonal[n2,n1,n0]) < eps\n",
    "                assert abs(moments_diagonal[n0,n1,n2]-moments_diagonal[n0,n2,n1]) < eps"
   ]
  },
  {
   "cell_type": "markdown",
   "id": "respected-identity",
   "metadata": {},
   "source": [
    "## General vs diagonal implementation"
   ]
  },
  {
   "cell_type": "markdown",
   "id": "natural-values",
   "metadata": {},
   "source": [
    "Now that we have tested the diagonal implementation to quite a high degree, we compare it to the general implementation."
   ]
  },
  {
   "cell_type": "code",
   "execution_count": 101,
   "id": "quality-portal",
   "metadata": {},
   "outputs": [],
   "source": [
    "principal_components = np.array([2.8,0.4,1.1])\n",
    "A = np.diag(principal_components)\n",
    "a = np.array([3.1, -2.3, 5.92])\n",
    "maxdeg = 3\n",
    "moments_general = compute_moments_inefficient_implementation(A, a, maxdeg)\n",
    "moments_diagonal = compute_moments_diagonal_inefficient_implementation(principal_components, a, maxdeg)\n",
    "assert_allclose(moments_general, moments_diagonal, rtol=1e-15, atol=3e-16)"
   ]
  },
  {
   "cell_type": "code",
   "execution_count": 102,
   "id": "previous-driver",
   "metadata": {},
   "outputs": [
    {
     "data": {
      "text/plain": [
       "array([[[   14.18941362,    84.00132865,   510.18733253,  3173.038697  ],\n",
       "        [  -32.63565133,  -193.20305589, -1173.43086481,     0.        ],\n",
       "        [  110.53553212,   654.37035017,     0.        ,     0.        ],\n",
       "        [ -417.40998055,     0.        ,     0.        ,     0.        ]],\n",
       "\n",
       "       [[   43.98718223,   260.40411881,  1581.58073083,     0.        ],\n",
       "        [ -101.17051913,  -598.92947326,     0.        ,     0.        ],\n",
       "        [  342.66014958,     0.        ,     0.        ,     0.        ],\n",
       "        [    0.        ,     0.        ,     0.        ,     0.        ]],\n",
       "\n",
       "       [[  141.42791264,   837.25324282,     0.        ,     0.        ],\n",
       "        [ -325.28419907,     0.        ,     0.        ,     0.        ],\n",
       "        [    0.        ,     0.        ,     0.        ,     0.        ],\n",
       "        [    0.        ,     0.        ,     0.        ,     0.        ]],\n",
       "\n",
       "       [[  469.84594506,     0.        ,     0.        ,     0.        ],\n",
       "        [    0.        ,     0.        ,     0.        ,     0.        ],\n",
       "        [    0.        ,     0.        ,     0.        ,     0.        ],\n",
       "        [    0.        ,     0.        ,     0.        ,     0.        ]]])"
      ]
     },
     "execution_count": 102,
     "metadata": {},
     "output_type": "execute_result"
    }
   ],
   "source": [
    "moments_general"
   ]
  },
  {
   "cell_type": "code",
   "execution_count": 103,
   "id": "eastern-watershed",
   "metadata": {},
   "outputs": [
    {
     "data": {
      "text/plain": [
       "array([[[   14.18941362,    84.00132865,   510.18733253,  3173.038697  ],\n",
       "        [  -32.63565133,  -193.20305589, -1173.43086481,     0.        ],\n",
       "        [  110.53553212,   654.37035017,     0.        ,     0.        ],\n",
       "        [ -417.40998055,     0.        ,     0.        ,     0.        ]],\n",
       "\n",
       "       [[   43.98718223,   260.40411881,  1581.58073083,     0.        ],\n",
       "        [ -101.17051913,  -598.92947326,     0.        ,     0.        ],\n",
       "        [  342.66014958,     0.        ,     0.        ,     0.        ],\n",
       "        [    0.        ,     0.        ,     0.        ,     0.        ]],\n",
       "\n",
       "       [[  141.42791264,   837.25324282,     0.        ,     0.        ],\n",
       "        [ -325.28419907,     0.        ,     0.        ,     0.        ],\n",
       "        [    0.        ,     0.        ,     0.        ,     0.        ],\n",
       "        [    0.        ,     0.        ,     0.        ,     0.        ]],\n",
       "\n",
       "       [[  469.84594506,     0.        ,     0.        ,     0.        ],\n",
       "        [    0.        ,     0.        ,     0.        ,     0.        ],\n",
       "        [    0.        ,     0.        ,     0.        ,     0.        ],\n",
       "        [    0.        ,     0.        ,     0.        ,     0.        ]]])"
      ]
     },
     "execution_count": 103,
     "metadata": {},
     "output_type": "execute_result"
    }
   ],
   "source": [
    "moments_diagonal"
   ]
  },
  {
   "cell_type": "code",
   "execution_count": null,
   "id": "floral-oxygen",
   "metadata": {},
   "outputs": [],
   "source": []
  }
 ],
 "metadata": {
  "kernelspec": {
   "display_name": "Python 3",
   "language": "python",
   "name": "python3"
  },
  "language_info": {
   "codemirror_mode": {
    "name": "ipython",
    "version": 3
   },
   "file_extension": ".py",
   "mimetype": "text/x-python",
   "name": "python",
   "nbconvert_exporter": "python",
   "pygments_lexer": "ipython3",
   "version": "3.8.5"
  }
 },
 "nbformat": 4,
 "nbformat_minor": 5
}
