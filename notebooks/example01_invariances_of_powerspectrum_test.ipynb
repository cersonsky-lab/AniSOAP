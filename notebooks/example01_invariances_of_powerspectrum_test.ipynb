{
  "cells": [
    {
      "cell_type": "markdown",
      "metadata": {},
      "source": [
        "\n",
        "# Example 1: Creating AniSOAP vectors from ellipsoidal frames.\n",
        "This example demonstrates:\n",
        "\n",
        "1. How to read ellipsoidal frames from ``.xyz`` file.\n",
        "2. How to convert ellipsoidal frames to AniSOAP vectors.\n",
        "3. How to create ellipsoidal frames with ``ase.Atoms``.\n"
      ]
    },
    {
      "cell_type": "code",
      "execution_count": 1,
      "metadata": {
        "collapsed": false
      },
      "outputs": [
        {
          "name": "stderr",
          "output_type": "stream",
          "text": [
            "/Users/alin62/miniconda3/envs/anisoap/lib/python3.10/site-packages/tqdm/auto.py:21: TqdmWarning: IProgress not found. Please update jupyter and ipywidgets. See https://ipywidgets.readthedocs.io/en/stable/user_install.html\n",
            "  from .autonotebook import tqdm as notebook_tqdm\n"
          ]
        }
      ],
      "source": [
        "from ase.io import read\n",
        "from ase import Atoms\n",
        "\n",
        "import numpy as np\n",
        "\n",
        "from scipy.spatial.transform import Rotation as R\n",
        "from tqdm.auto import tqdm\n",
        "from skmatter.preprocessing import StandardFlexibleScaler\n",
        "\n",
        "from anisoap.representations.ellipsoidal_density_projection import (\n",
        "    EllipsoidalDensityProjection,\n",
        ")\n",
        "\n",
        "import matplotlib.pyplot as plt"
      ]
    },
    {
      "cell_type": "markdown",
      "metadata": {},
      "source": [
        "Read the first two frames of ellipsoids.xyz, which represent coarse-grained benzene molecules.\n",
        "\n"
      ]
    },
    {
      "cell_type": "code",
      "execution_count": 2,
      "metadata": {
        "collapsed": false
      },
      "outputs": [
        {
          "name": "stdout",
          "output_type": "stream",
          "text": [
            "len(frames)=2\n",
            "frames[0].arrays={'numbers': array([0, 0]), 'positions': array([[-0.        , -0.        ,  3.27355258],\n",
            "       [ 2.86203436,  4.88789961,  6.73143792]]), 'c_q': array([[ 0.15965019,  0.67170996, -0.07507814,  0.71950039],\n",
            "       [-0.213207  , -0.03290243,  0.26500539,  0.93980442]])}\n"
          ]
        }
      ],
      "source": [
        "frames = read(\"ellipsoids.xyz\", \"0:2\")\n",
        "frames_translation = read(\"ellipsoids.xyz\", \"0:2\")\n",
        "frames_rotation = read(\"ellipsoids.xyz\", \"0:2\")\n",
        "\n",
        "print(f\"{len(frames)=}\")  # a list of atoms objects\n",
        "print(f\"{frames[0].arrays=}\")"
      ]
    },
    {
      "cell_type": "markdown",
      "metadata": {},
      "source": [
        "In this case, the xyz file did not store ellipsoid dimension information.\n",
        "\n",
        "We will add this information here.\n",
        "\n"
      ]
    },
    {
      "cell_type": "code",
      "execution_count": 3,
      "metadata": {
        "collapsed": false
      },
      "outputs": [
        {
          "name": "stdout",
          "output_type": "stream",
          "text": [
            "frames[0].arrays={'numbers': array([0, 0]), 'positions': array([[-0.        , -0.        ,  3.27355258],\n",
            "       [ 2.86203436,  4.88789961,  6.73143792]]), 'c_q': array([[ 0.15965019,  0.67170996, -0.07507814,  0.71950039],\n",
            "       [-0.213207  , -0.03290243,  0.26500539,  0.93980442]]), 'c_diameter[1]': array([3., 3.]), 'c_diameter[2]': array([3., 3.]), 'c_diameter[3]': array([1., 1.])}\n",
            "frames[1].arrays={'numbers': array([0]), 'positions': array([[1.05715855, 3.61232694, 6.89484241]]), 'c_q': array([[ 0.79385889,  0.57747976, -0.17079529,  0.08446388]]), 'c_diameter[1]': array([3.]), 'c_diameter[2]': array([3.]), 'c_diameter[3]': array([1.])}\n"
          ]
        }
      ],
      "source": [
        "for frame in frames:\n",
        "    frame.arrays[\"c_diameter[1]\"] = np.ones(len(frame)) * 3.0\n",
        "    frame.arrays[\"c_diameter[2]\"] = np.ones(len(frame)) * 3.0\n",
        "    frame.arrays[\"c_diameter[3]\"] = np.ones(len(frame)) * 1.0\n",
        "\n",
        "print(f\"{frames[0].arrays=}\")\n",
        "print(f\"{frames[1].arrays=}\")"
      ]
    },
    {
      "cell_type": "markdown",
      "metadata": {},
      "source": [
        "Specify the hypers to create AniSOAP vector.\n",
        "\n"
      ]
    },
    {
      "cell_type": "code",
      "execution_count": 4,
      "metadata": {
        "collapsed": false
      },
      "outputs": [
        {
          "name": "stderr",
          "output_type": "stream",
          "text": [
            "/Users/alin62/miniconda3/envs/anisoap/lib/python3.10/site-packages/anisoap/representations/ellipsoidal_density_projection.py:554: UserWarning: In quaternion mode, quaternions are assumed to be in (w,x,y,z) format.\n",
            "  warnings.warn(\n"
          ]
        }
      ],
      "source": [
        "lmax = 5\n",
        "nmax = 3\n",
        "\n",
        "AniSOAP_HYPERS = {\n",
        "    \"max_angular\": lmax,\n",
        "    \"max_radial\": nmax,\n",
        "    \"radial_basis_name\": \"gto\",\n",
        "    \"rotation_type\": \"quaternion\",\n",
        "    \"rotation_key\": \"c_q\",\n",
        "    \"cutoff_radius\": 7.0,\n",
        "    \"radial_gaussian_width\": 1.5,\n",
        "    \"basis_rcond\": 1e-8,\n",
        "    \"basis_tol\": 1e-4,\n",
        "}\n",
        "calculator = EllipsoidalDensityProjection(**AniSOAP_HYPERS)"
      ]
    },
    {
      "cell_type": "markdown",
      "metadata": {},
      "source": [
        "Create the AniSOAP vector (i.e. the power spectrum).\n",
        "\n"
      ]
    },
    {
      "cell_type": "code",
      "execution_count": 5,
      "metadata": {
        "collapsed": false
      },
      "outputs": [
        {
          "data": {
            "image/png": "[encoded data removed]",
            "text/plain": [
              "<Figure size 640x480 with 1 Axes>"
            ]
          },
          "metadata": {},
          "output_type": "display_data"
        }
      ],
      "source": [
        "power_spectrum = calculator.power_spectrum(frames)\n",
        "plt.plot(power_spectrum.T)\n",
        "plt.legend([\"frame[0] power spectrum\", \"frame[1] power spectrum\"])\n",
        "plt.show()"
      ]
    },
    {
      "cell_type": "markdown",
      "metadata": {},
      "source": [
        "Here we will demonstrate translation invariance.\n",
        "\n",
        "A translation vector is used to demonstrate that the power spectrum of ellipsoidal representations is invariant to translation in positions.\n",
        "\n"
      ]
    },
    {
      "cell_type": "code",
      "execution_count": 6,
      "metadata": {
        "collapsed": false
      },
      "outputs": [
        {
          "name": "stdout",
          "output_type": "stream",
          "text": [
            "Old Positions: [[-0.         -0.          3.27355258]\n",
            " [ 2.86203436  4.88789961  6.73143792]] [[1.05715855 3.61232694 6.89484241]]\n",
            "New Positions: [[2.         2.         5.27355258]\n",
            " [4.86203436 6.88789961 8.73143792]] [[3.05715855 5.61232694 8.89484241]]\n",
            "Power spectrum has translational invariance!\n"
          ]
        }
      ],
      "source": [
        "print(\"Old Positions:\", frames[0].get_positions(), frames[1].get_positions())\n",
        "translation_vector = np.array([2.0, 2.0, 2.0])\n",
        "for frame in frames:\n",
        "    frame.set_positions(frame.get_positions() + translation_vector)\n",
        "print(\"New Positions:\", frames[0].get_positions(), frames[1].get_positions())\n",
        "power_spectrum_translated = calculator.power_spectrum(frames)\n",
        "if np.allclose(power_spectrum, power_spectrum_translated):\n",
        "    print(\"Power spectrum has translational invariance!\")\n",
        "else:\n",
        "    print(\"Power spectrum has no translational invariance\")"
      ]
    },
    {
      "cell_type": "markdown",
      "metadata": {},
      "source": [
        "Here, we demonstrate rotational invariance, rotating all ellipsoids by the same amount.\n",
        "\n"
      ]
    },
    {
      "cell_type": "code",
      "execution_count": 7,
      "metadata": {
        "collapsed": false
      },
      "outputs": [
        {
          "name": "stdout",
          "output_type": "stream",
          "text": [
            "Old Orientations: [[ 0.15965019  0.67170996 -0.07507814  0.71950039]\n",
            " [-0.213207   -0.03290243  0.26500539  0.93980442]] [[ 0.79385889  0.57747976 -0.17079529  0.08446388]]\n",
            "New Orientations: [[ 0.26050794  0.20466222 -0.94322073  0.02415869]\n",
            " [ 0.71412501  0.08971953 -0.40514029  0.56377054]] [[-0.02878644  0.4417325  -0.55380868 -0.70522314]]\n",
            "Power spectrum has rotation invariance (with lenient tolerances)\n"
          ]
        }
      ],
      "source": [
        "print(\"Old Orientations:\", frames[0].arrays[\"c_q\"], frames[1].arrays[\"c_q\"])\n",
        "\n",
        "quaternion = [1, 2, 0, -3]  # random rotation\n",
        "q_rotation = R.from_quat(quaternion, scalar_first=True)\n",
        "for frame in frames:\n",
        "    frame.arrays[\"c_q\"] = R.as_quat(\n",
        "        q_rotation * R.from_quat(frame.arrays[\"c_q\"], scalar_first=True),\n",
        "        scalar_first=True,\n",
        "    )\n",
        "print(\"New Orientations:\", frames[0].arrays[\"c_q\"], frames[1].arrays[\"c_q\"])\n",
        "\n",
        "power_spectrum_rotation = calculator.power_spectrum(frames)\n",
        "if np.allclose(power_spectrum, power_spectrum_rotation, rtol=1e-2, atol=1e-2):\n",
        "    print(\"Power spectrum has rotation invariance (with lenient tolerances)\")\n",
        "else:\n",
        "    print(\"Power spectrum has no rotation invariance\")"
      ]
    },
    {
      "cell_type": "markdown",
      "metadata": {},
      "source": [
        "Here's how to create ellipsoidal frames. In this example:\n",
        "\n",
        "* Each frame contains 2-3 ellipsoids, with periodic boundary conditions.\n",
        "* The quaternions(``c_q``) and particle dimensions(``c_diameter[i]``) cannot be passed into the Atoms constructor.\n",
        "* They are attached as data in the Atoms.arrays dictionary.\n",
        "* I just made up arbitrary postions and orientations. Quaternions should be in (w,x,y,z) format.\n",
        "* In reality you would choose positions and orientations based on some underlying atomistic model.\n",
        "\n"
      ]
    },
    {
      "cell_type": "code",
      "execution_count": 8,
      "metadata": {
        "collapsed": false
      },
      "outputs": [],
      "source": [
        "frame1 = Atoms(\n",
        "    symbols=\"XX\",\n",
        "    positions=np.array([[0.0, 0.0, 0.0], [2.5, 3.0, 2.0]]),\n",
        "    cell=np.array(\n",
        "        [\n",
        "            5.0,\n",
        "            5.0,\n",
        "            5.0,\n",
        "        ]\n",
        "    ),\n",
        "    pbc=True,\n",
        ")\n",
        "frame1.arrays[\"c_q\"] = np.array([[0.0, 1.0, 0.0, 0.0], [0.0, 0.0, 1.0, 0]])\n",
        "frame1.arrays[\"c_diameter[1]\"] = np.array([3.0, 3.0])\n",
        "frame1.arrays[\"c_diameter[2]\"] = np.array([3.0, 3.0])\n",
        "frame1.arrays[\"c_diameter[3]\"] = np.array([1.0, 1.0])\n",
        "\n",
        "frame2 = Atoms(\n",
        "    symbols=\"XXX\",\n",
        "    positions=np.array([[0.0, 1.0, 2.0], [2.0, 3.0, 4.0], [5.0, 5.0, 1.0]]),\n",
        "    cell=[\n",
        "        10.0,\n",
        "        10.0,\n",
        "        10.0,\n",
        "    ],\n",
        "    pbc=True,\n",
        ")\n",
        "frame2.arrays[\"c_q\"] = np.array(\n",
        "    [[0.0, 1.0, 0.0, 0.0], [0.0, 0.0, 1.0, 0], [0.0, 0.0, 0.707, 0.707]]\n",
        ")\n",
        "frame2.arrays[\"c_diameter[1]\"] = np.array([3.0, 3.0, 3.0])\n",
        "frame2.arrays[\"c_diameter[2]\"] = np.array([3.0, 3.0, 3.0])\n",
        "frame2.arrays[\"c_diameter[3]\"] = np.array([1.0, 1.0, 1.0])\n",
        "\n",
        "frames = [frame1, frame2]"
      ]
    },
    {
      "cell_type": "markdown",
      "metadata": {},
      "source": [
        "You can then use ``ase.io.write()``/``ase.io.read()`` to save/load these frames for later use.\n",
        "\n"
      ]
    }
  ],
  "metadata": {
    "kernelspec": {
      "display_name": "anisoap",
      "language": "python",
      "name": "python3"
    },
    "language_info": {
      "codemirror_mode": {
        "name": "ipython",
        "version": 3
      },
      "file_extension": ".py",
      "mimetype": "text/x-python",
      "name": "python",
      "nbconvert_exporter": "python",
      "pygments_lexer": "ipython3",
      "version": "3.10.16"
    }
  },
  "nbformat": 4,
  "nbformat_minor": 0
}
