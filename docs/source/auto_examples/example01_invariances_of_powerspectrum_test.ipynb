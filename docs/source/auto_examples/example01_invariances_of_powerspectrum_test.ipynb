{
  "cells": [
    {
      "cell_type": "markdown",
      "metadata": {},
      "source": [
        "\n# Example 1: Creating AniSOAP vectors from ellipsoidal frames.\nThis example demonstrates:\n\n1. How to read ellipsoidal frame from xyz\n2. How to convert ellipsoidal frames to AniSOAP vectors\n3. How to create ellipsoidal frames\n"
      ]
    },
    {
      "cell_type": "code",
      "execution_count": null,
      "metadata": {
        "collapsed": false
      },
      "outputs": [],
      "source": [
        "import sys\nimport warnings\nimport metatensor\nfrom itertools import product\nfrom ase.io import read\nfrom ase import Atoms\n\nimport numpy as np\nfrom metatensor import (\n    Labels,\n    TensorBlock,\n    TensorMap,\n)\n\nfrom scipy.spatial.transform import Rotation as R\nfrom tqdm.auto import tqdm\nfrom skmatter.preprocessing import StandardFlexibleScaler\n\nfrom anisoap.representations.radial_basis import (\n    GTORadialBasis,\n    MonomialBasis,\n)\nfrom anisoap.representations.ellipsoidal_density_projection import (\n    EllipsoidalDensityProjection,\n)\n\nimport matplotlib.pyplot as plt"
      ]
    },
    {
      "cell_type": "markdown",
      "metadata": {},
      "source": [
        "Read the first two frames of ellipsoids.xyz, which represent coarse-grained benzene molecules.\n\n"
      ]
    },
    {
      "cell_type": "code",
      "execution_count": null,
      "metadata": {
        "collapsed": false
      },
      "outputs": [],
      "source": [
        "frames = read(\"ellipsoids.xyz\", \"0:2\")\nframes_translation = read(\"ellipsoids.xyz\", \"0:2\")\nframes_rotation = read(\"ellipsoids.xyz\", \"0:2\")\n\nprint(f\"{len(frames)=}\")   # a list of atoms objects\nprint(f\"{frames[0].arrays=}\")"
      ]
    },
    {
      "cell_type": "markdown",
      "metadata": {},
      "source": [
        "In this case, the xyz file did not store ellipsoid dimension information. \n\nWe will add this information here.\n\n"
      ]
    },
    {
      "cell_type": "code",
      "execution_count": null,
      "metadata": {
        "collapsed": false
      },
      "outputs": [],
      "source": [
        "for frame in frames:\n    frame.arrays[\"c_diameter[1]\"] = np.ones(len(frame)) * 3.\n    frame.arrays[\"c_diameter[2]\"] = np.ones(len(frame)) * 3.\n    frame.arrays[\"c_diameter[3]\"] = np.ones(len(frame)) * 1.\n\nprint(f\"{frames[0].arrays=}\")\nprint(f\"{frames[1].arrays=}\")"
      ]
    },
    {
      "cell_type": "markdown",
      "metadata": {},
      "source": [
        "Specify the hypers to create AniSOAP vector.\n\n"
      ]
    },
    {
      "cell_type": "code",
      "execution_count": null,
      "metadata": {
        "collapsed": false
      },
      "outputs": [],
      "source": [
        "lmax = 5\nnmax = 3\n\nAniSOAP_HYPERS = {\n    \"max_angular\": lmax,\n    \"max_radial\": nmax,\n    \"radial_basis_name\": \"gto\",\n    \"rotation_type\": \"quaternion\",\n    \"rotation_key\": \"c_q\",\n    \"cutoff_radius\": 7.0,\n    \"radial_gaussian_width\": 1.5,\n    \"basis_rcond\": 1e-8,\n    \"basis_tol\": 1e-4,\n}\ncalculator = EllipsoidalDensityProjection(**AniSOAP_HYPERS)"
      ]
    },
    {
      "cell_type": "markdown",
      "metadata": {},
      "source": [
        "Create the AniSOAP vector (i.e. the power spectrum).\n\n"
      ]
    },
    {
      "cell_type": "code",
      "execution_count": null,
      "metadata": {
        "collapsed": false
      },
      "outputs": [],
      "source": [
        "power_spectrum = calculator.power_spectrum(frames)\nplt.plot(power_spectrum.T)\nplt.show()"
      ]
    },
    {
      "cell_type": "markdown",
      "metadata": {},
      "source": [
        "Here we will demonstrate translation invariance.\n\nTranslation vector is used to demonstrate the power spectrum of ellipsoidal representations are invariant of translation in positions.\n\n"
      ]
    },
    {
      "cell_type": "code",
      "execution_count": null,
      "metadata": {
        "collapsed": false
      },
      "outputs": [],
      "source": [
        "print(\"Old Positions:\", frames[0].get_positions(), frames[1].get_positions())\ntranslation_vector = np.array([2.0, 2.0, 2.0])\nfor frame in frames:\n    frame.set_positions(frame.get_positions() + translation_vector)\nprint(\"New Positions:\", frames[0].get_positions(), frames[1].get_positions())\npower_spectrum_translated = calculator.power_spectrum(frames)\nprint(f\"{np.allclose(power_spectrum, power_spectrum_translated)=}\")"
      ]
    },
    {
      "cell_type": "markdown",
      "metadata": {},
      "source": [
        "Here, we demonstrate rotational invariance, rotating all ellipsoids by the same amount.\n\n"
      ]
    },
    {
      "cell_type": "code",
      "execution_count": null,
      "metadata": {
        "collapsed": false
      },
      "outputs": [],
      "source": [
        "print(\"Old Orientations:\", frames[0].arrays[\"c_q\"], frames[1].arrays[\"c_q\"])\n\nquaternion = [1, 2, 0, -3]   # random rotation\nq_rotation = R.from_quat(quaternion, scalar_first=True)   \nfor frame in frames:\n    frame.arrays[\"c_q\"] = R.as_quat(\n        q_rotation * R.from_quat(frame.arrays[\"c_q\"], scalar_first=True),\n        scalar_first=True,\n    )\nprint(\"New Orientations:\", frames[0].arrays[\"c_q\"], frames[1].arrays[\"c_q\"])\n\npower_spectrum_rotation = calculator.power_spectrum(frames, AniSOAP_HYPERS)\nprint(f\"{np.allclose(power_spectrum, power_spectrum_rotation, rtol=1e-2, atol=1e-2)=}\")"
      ]
    },
    {
      "cell_type": "markdown",
      "metadata": {},
      "source": [
        "Here's how to create ellipsoidal frames. In this example:\n\n* Each frame contains 2-3 ellipsoids, with periodic boundary conditions.\n* The quaternions(``c_q``) and particle dimensions(``c_diameter[i]``) cannot be passed into the Atoms constructor.\n* They are attached as data in the Atoms.arrays dictionary.\n* I just made up arbitrary postions and orientations. Quaternions should be in (w,x,y,z) format.\n* In reality you would choose positions and orientations based on some underlying atomistic model.\n\n"
      ]
    },
    {
      "cell_type": "code",
      "execution_count": null,
      "metadata": {
        "collapsed": false
      },
      "outputs": [],
      "source": [
        "frame1 = Atoms(symbols='XX', \n               positions=np.array([[0., 0., 0.], [2.5, 3., 2.]]),\n               cell=np.array([5., 5., 5.,]), \n               pbc=True)\nframe1.arrays[\"c_q\"] = np.array([[0., 1., 0., 0.], [0., 0., 1., 0]])\nframe1.arrays[\"c_diameter[1]\"] = np.array([3., 3.])\nframe1.arrays[\"c_diameter[2]\"] = np.array([3., 3.])\nframe1.arrays[\"c_diameter[3]\"] = np.array([1., 1.])\n\nframe2 = Atoms(symbols='XXX', \n               positions = np.array([[0., 1., 2.], [2., 3., 4.], [5., 5., 1.]]),\n               cell=[10., 10., 10.,], \n               pbc=True)\nframe2.arrays[\"c_q\"] = np.array([[0., 1., 0., 0.], [0., 0., 1., 0], [0., 0., 0.707, 0.707]])\nframe2.arrays[\"c_diameter[1]\"] = np.array([3., 3., 3.])\nframe2.arrays[\"c_diameter[2]\"] = np.array([3., 3., 3.])\nframe2.arrays[\"c_diameter[3]\"] = np.array([1., 1., 1.])\n\nframes = [frame1, frame2]"
      ]
    },
    {
      "cell_type": "markdown",
      "metadata": {},
      "source": [
        "You can then use ``ase.io.write()``/``ase.io.read()`` to save/load these frames for later use.\n"
      ]
    }
  ],
  "metadata": {
    "kernelspec": {
      "display_name": "Python 3",
      "language": "python",
      "name": "python3"
    },
    "language_info": {
      "codemirror_mode": {
        "name": "ipython",
        "version": 3
      },
      "file_extension": ".py",
      "mimetype": "text/x-python",
      "name": "python",
      "nbconvert_exporter": "python",
      "pygments_lexer": "ipython3",
      "version": "3.10.15"
    }
  },
  "nbformat": 4,
  "nbformat_minor": 0
}