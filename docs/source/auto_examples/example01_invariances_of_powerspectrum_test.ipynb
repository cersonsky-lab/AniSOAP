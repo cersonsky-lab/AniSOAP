{
  "cells": [
    {
      "cell_type": "markdown",
      "metadata": {},
      "source": [
        "\n# Example 1: Creating AniSOAP vectors from ellipsoidal frames.\nThis example demonstrates:\n\n1. How to create ellipsoidal frames\n\n2. How to read ellipsoidal frame from xyz\n\n3. How to convert ellipsoidal frames to AniSOAP vectors\n"
      ]
    },
    {
      "cell_type": "code",
      "execution_count": null,
      "metadata": {
        "collapsed": false
      },
      "outputs": [],
      "source": [
        "import sys\nimport warnings\nimport metatensor\nfrom itertools import product\nfrom ase.io import read\n\nimport numpy as np\nfrom metatensor import (\n    Labels,\n    TensorBlock,\n    TensorMap,\n)\n\nfrom scipy.spatial.transform import Rotation as R\nfrom tqdm.auto import tqdm\nfrom skmatter.preprocessing import StandardFlexibleScaler\n\nfrom anisoap.representations.radial_basis import (\n    GTORadialBasis,\n    MonomialBasis,\n)\nfrom anisoap.representations.ellipsoidal_density_projection import (\n    EllipsoidalDensityProjection,\n)\n\nimport matplotlib.pyplot as plt"
      ]
    },
    {
      "cell_type": "markdown",
      "metadata": {},
      "source": [
        "## This is a section header -- Read Ellipsoidal Frames \n\n"
      ]
    },
    {
      "cell_type": "code",
      "execution_count": null,
      "metadata": {
        "collapsed": false
      },
      "outputs": [],
      "source": [
        "ell_frames = read(\"ellipsoids.xyz\", \"0:2\")\nell_frames_translation = read(\"ellipsoids.xyz\", \"0:2\")\nell_frames_rotation = read(\"ellipsoids.xyz\", \"0:2\")\n\n# This is to make sure the ell_frames list calls c_diameter[] rather than c_diameter and to update the diameters of ellipsoids to be 3,3, and 1.\n\n\ndef update_diameters_and_variablename(frames):\n    for frame in frames:\n        for i in range(1, 4):\n            old = f\"c_diameter{i}\"\n            new = f\"c_diameter[{i}]\"\n            if old in frame.arrays:\n                frame.arrays[new] = frame.arrays[old]\n            frame.arrays[new] = np.ones(len(frame)) * (3.0 if i < 3 else 1.0)\n\n\nupdate_diameters_and_variablename(ell_frames)\nupdate_diameters_and_variablename(ell_frames_translation)\nupdate_diameters_and_variablename(ell_frames_rotation)\nprint(\"Hello, world!\")\nplt.plot(np.sin(np.linspace(0, 2*np.pi)))"
      ]
    }
  ],
  "metadata": {
    "kernelspec": {
      "display_name": "Python 3",
      "language": "python",
      "name": "python3"
    },
    "language_info": {
      "codemirror_mode": {
        "name": "ipython",
        "version": 3
      },
      "file_extension": ".py",
      "mimetype": "text/x-python",
      "name": "python",
      "nbconvert_exporter": "python",
      "pygments_lexer": "ipython3",
      "version": "3.10.15"
    }
  },
  "nbformat": 4,
  "nbformat_minor": 0
}