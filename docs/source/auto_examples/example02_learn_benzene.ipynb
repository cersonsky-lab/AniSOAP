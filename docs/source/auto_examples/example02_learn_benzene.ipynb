{
  "cells": [
    {
      "cell_type": "markdown",
      "metadata": {},
      "source": [
        "\n# Example 2: Machine-learning benzene energies.\nThis example demonstrates:\n\n1. How to read ellipsoidal frames from ``.xyz`` file.\n2. How to convert ellipsoidal frames to AniSOAP vectors.\n3. How to use these frames in machine learning models.\n"
      ]
    },
    {
      "cell_type": "code",
      "execution_count": null,
      "metadata": {
        "collapsed": false
      },
      "outputs": [],
      "source": [
        "import metatensor\nimport numpy as np\nfrom anisoap.representations import EllipsoidalDensityProjection\nfrom anisoap.utils import ClebschGordanReal, cg_combine, standardize_keys\nfrom ase.io import read\nfrom matplotlib import pyplot as plt\nfrom matplotlib import rc\nfrom rascaline import SoapPowerSpectrum\nfrom sklearn.decomposition import PCA\nfrom skmatter.metrics import global_reconstruction_error as GRE\nfrom sklearn.model_selection import train_test_split\nfrom skmatter.preprocessing import StandardFlexibleScaler\nimport pickle"
      ]
    },
    {
      "cell_type": "markdown",
      "metadata": {},
      "source": [
        "Read the frames\n\n"
      ]
    },
    {
      "cell_type": "code",
      "execution_count": null,
      "metadata": {
        "collapsed": false
      },
      "outputs": [],
      "source": [
        "lmax = 9\nnmax = 6\n\natom_frames = read(\"benzenes.xyz\", \":\")    # all atom frames, containing benzene energies\nframes = read(\"ellipsoids.xyz\", \":\")    # ellipsoid frames\nenergies = np.array([aframe.info[\"energy_pa\"] for aframe in atom_frames])\nenergies = np.reshape(energies, (-1, 1))   # Turn energies into column vector, required for sklearn\nplt.hist(energies, bins=100)\nplt.xlabel(\"Loaded Energies, eV\")\nplt.show()"
      ]
    },
    {
      "cell_type": "markdown",
      "metadata": {},
      "source": [
        "Computing the AniSOAP Vectors\n\n* The ideal semiaxes for the ellipsoid are (4, 4, 0.5)\n\n"
      ]
    },
    {
      "cell_type": "code",
      "execution_count": null,
      "metadata": {
        "collapsed": false
      },
      "outputs": [],
      "source": [
        "a1, a2, a3 = 4., 4., 0.5\nfor frame in frames:\n    frame.arrays[\"c_diameter[1]\"] = a1 * np.ones(len(frame))\n    frame.arrays[\"c_diameter[2]\"] = a2 * np.ones(len(frame))\n    frame.arrays[\"c_diameter[3]\"] = a3 * np.ones(len(frame))\n\nAniSOAP_HYPERS = {\n    \"max_angular\": lmax,\n    \"max_radial\": nmax,\n    \"radial_basis_name\": \"gto\",\n    \"subtract_center_contribution\": True,\n    \"rotation_type\": \"quaternion\",\n    \"rotation_key\": \"c_q\",\n    \"cutoff_radius\": 7.0,\n    \"radial_gaussian_width\": 1.5,\n    \"basis_rcond\": 1e-8,\n    \"basis_tol\": 1e-3,\n}\n\ncalculator = EllipsoidalDensityProjection(**AniSOAP_HYPERS)\n\nx_anisoap_raw = calculator.power_spectrum(frames)"
      ]
    },
    {
      "cell_type": "markdown",
      "metadata": {},
      "source": [
        "Here, we do standard preparation of the data for machine learning.\n\n* Perform a train test split and standardization.\n* Note: Warnings below are from StandardFlexibleScaler.\n\n"
      ]
    },
    {
      "cell_type": "code",
      "execution_count": null,
      "metadata": {
        "collapsed": false
      },
      "outputs": [],
      "source": [
        "from sklearn.model_selection import train_test_split\n\ni_train, i_test = train_test_split(np.arange(len(frames)), train_size=0.9, shuffle=True)\nx_train_scaler = StandardFlexibleScaler(column_wise=False).fit(x_anisoap_raw[i_train])\nx_train = x_train_scaler.transform(x_anisoap_raw[i_train])\ny_train_scaler = StandardFlexibleScaler(column_wise=True).fit(energies[i_train])\ny_train = y_train_scaler.transform(energies[i_train])\n\nx_test_scaler = StandardFlexibleScaler(column_wise=False).fit(x_anisoap_raw[i_test])\nx_test = x_test_scaler.transform(x_anisoap_raw[i_test])\ny_test_scaler = StandardFlexibleScaler(column_wise=True).fit(energies[i_test])\ny_test = y_test_scaler.transform(energies[i_test])"
      ]
    },
    {
      "cell_type": "markdown",
      "metadata": {},
      "source": [
        "Input into a regularized linear regression machine learning model\n\n"
      ]
    },
    {
      "cell_type": "code",
      "execution_count": null,
      "metadata": {
        "collapsed": false
      },
      "outputs": [],
      "source": [
        "from sklearn.linear_model import RidgeCV\n\nlr = RidgeCV(cv=5, alphas=np.logspace(-8, 2, 20), fit_intercept=True)\nlr.fit(x_train, y_train)\nprint(f\"{lr.alpha_=:.3f}\")"
      ]
    },
    {
      "cell_type": "markdown",
      "metadata": {},
      "source": [
        "Model performance and Parity Plot\nsphinx_gallery_thumbnail_number = 2\n\n"
      ]
    },
    {
      "cell_type": "code",
      "execution_count": null,
      "metadata": {
        "collapsed": false
      },
      "outputs": [],
      "source": [
        "plt.figure(figsize=(8, 8))\nplt.scatter(y_train_scaler.inverse_transform(y_train), \n            y_train_scaler.inverse_transform(lr.predict(x_train).reshape(-1,1)),\n            alpha=0.5)\n\nplt.scatter(y_test_scaler.inverse_transform(y_test), \n            y_test_scaler.inverse_transform(lr.predict(x_test).reshape(-1,1)),\n            alpha=0.5)\n\nplt.plot([np.min(energies), np.max(energies)], [np.min(energies), np.max(energies)], \"r--\")\nplt.xlabel(\"Per-atom Energies (eV)\")\nplt.ylabel(\"AniSOAP Predicted Per-atom Energies (eV)\")\nplt.legend([\"Train\", \"Test\", \"y=x\"])\n\nprint(f\"Train R^2: {lr.score(x_train, y_train):.3f}\")\nprint(f\"Test R^2: {lr.score(x_test, y_test):.3f}\")"
      ]
    }
  ],
  "metadata": {
    "kernelspec": {
      "display_name": "Python 3",
      "language": "python",
      "name": "python3"
    },
    "language_info": {
      "codemirror_mode": {
        "name": "ipython",
        "version": 3
      },
      "file_extension": ".py",
      "mimetype": "text/x-python",
      "name": "python",
      "nbconvert_exporter": "python",
      "pygments_lexer": "ipython3",
      "version": "3.10.15"
    }
  },
  "nbformat": 4,
  "nbformat_minor": 0
}